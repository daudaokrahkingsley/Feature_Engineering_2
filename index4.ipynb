{
 "cells": [
  {
   "cell_type": "code",
   "execution_count": 3,
   "id": "2a0ffa1c-090a-49e5-8d74-74d388d7a963",
   "metadata": {},
   "outputs": [],
   "source": [
    "#importing of Libraries\n",
    "import numpy as np\n",
    "import pandas as pd\n",
    "import matplotlib.pyplot as plt\n",
    "import seaborn as sns\n",
    "\n",
    "#importing warnings\n",
    "import warnings\n",
    "warnings.filterwarnings(\"ignore\", category=DeprecationWarning)\n",
    "warnings.simplefilter(\"always\", FutureWarning)\n",
    "warnings.filterwarnings('ignore')"
   ]
  },
  {
   "cell_type": "code",
   "execution_count": 7,
   "id": "e090b708-a481-486f-8231-868d540f5310",
   "metadata": {},
   "outputs": [
    {
     "data": {
      "text/html": [
       "<div>\n",
       "<style scoped>\n",
       "    .dataframe tbody tr th:only-of-type {\n",
       "        vertical-align: middle;\n",
       "    }\n",
       "\n",
       "    .dataframe tbody tr th {\n",
       "        vertical-align: top;\n",
       "    }\n",
       "\n",
       "    .dataframe thead th {\n",
       "        text-align: right;\n",
       "    }\n",
       "</style>\n",
       "<table border=\"1\" class=\"dataframe\">\n",
       "  <thead>\n",
       "    <tr style=\"text-align: right;\">\n",
       "      <th></th>\n",
       "      <th>Id</th>\n",
       "      <th>MovName</th>\n",
       "      <th>Actor</th>\n",
       "      <th>Director</th>\n",
       "      <th>Genre</th>\n",
       "      <th>Year</th>\n",
       "    </tr>\n",
       "  </thead>\n",
       "  <tbody>\n",
       "    <tr>\n",
       "      <th>0</th>\n",
       "      <td>1</td>\n",
       "      <td>Joker</td>\n",
       "      <td>Joaquin Phoenix</td>\n",
       "      <td>Todd Phillips</td>\n",
       "      <td>Comic-Book</td>\n",
       "      <td>2019</td>\n",
       "    </tr>\n",
       "    <tr>\n",
       "      <th>1</th>\n",
       "      <td>2</td>\n",
       "      <td>Mission Impossible: Fallout</td>\n",
       "      <td>Tom Cruise</td>\n",
       "      <td>Christopher McQuarrie</td>\n",
       "      <td>Action</td>\n",
       "      <td>2018</td>\n",
       "    </tr>\n",
       "    <tr>\n",
       "      <th>2</th>\n",
       "      <td>3</td>\n",
       "      <td>Logan</td>\n",
       "      <td>Hugh Jackman</td>\n",
       "      <td>James Mangold</td>\n",
       "      <td>Comic-Book</td>\n",
       "      <td>2017</td>\n",
       "    </tr>\n",
       "  </tbody>\n",
       "</table>\n",
       "</div>"
      ],
      "text/plain": [
       "   Id                      MovName            Actor               Director  \\\n",
       "0   1                        Joker  Joaquin Phoenix          Todd Phillips   \n",
       "1   2  Mission Impossible: Fallout       Tom Cruise  Christopher McQuarrie   \n",
       "2   3                        Logan     Hugh Jackman          James Mangold   \n",
       "\n",
       "        Genre  Year  \n",
       "0  Comic-Book  2019  \n",
       "1      Action  2018  \n",
       "2  Comic-Book  2017  "
      ]
     },
     "execution_count": 7,
     "metadata": {},
     "output_type": "execute_result"
    }
   ],
   "source": [
    "df=pd.read_csv('movies.csv')\n",
    "df.head(3)"
   ]
  },
  {
   "cell_type": "code",
   "execution_count": 8,
   "id": "2bf86a88-64cb-453a-8cdf-35ee3607e917",
   "metadata": {},
   "outputs": [
    {
     "data": {
      "text/html": [
       "<div>\n",
       "<style scoped>\n",
       "    .dataframe tbody tr th:only-of-type {\n",
       "        vertical-align: middle;\n",
       "    }\n",
       "\n",
       "    .dataframe tbody tr th {\n",
       "        vertical-align: top;\n",
       "    }\n",
       "\n",
       "    .dataframe thead th {\n",
       "        text-align: right;\n",
       "    }\n",
       "</style>\n",
       "<table border=\"1\" class=\"dataframe\">\n",
       "  <thead>\n",
       "    <tr style=\"text-align: right;\">\n",
       "      <th></th>\n",
       "      <th>Id</th>\n",
       "      <th>Year</th>\n",
       "    </tr>\n",
       "  </thead>\n",
       "  <tbody>\n",
       "    <tr>\n",
       "      <th>count</th>\n",
       "      <td>10.00000</td>\n",
       "      <td>10.000000</td>\n",
       "    </tr>\n",
       "    <tr>\n",
       "      <th>mean</th>\n",
       "      <td>5.50000</td>\n",
       "      <td>2012.200000</td>\n",
       "    </tr>\n",
       "    <tr>\n",
       "      <th>std</th>\n",
       "      <td>3.02765</td>\n",
       "      <td>5.116422</td>\n",
       "    </tr>\n",
       "    <tr>\n",
       "      <th>min</th>\n",
       "      <td>1.00000</td>\n",
       "      <td>2005.000000</td>\n",
       "    </tr>\n",
       "    <tr>\n",
       "      <th>25%</th>\n",
       "      <td>3.25000</td>\n",
       "      <td>2008.500000</td>\n",
       "    </tr>\n",
       "    <tr>\n",
       "      <th>50%</th>\n",
       "      <td>5.50000</td>\n",
       "      <td>2011.500000</td>\n",
       "    </tr>\n",
       "    <tr>\n",
       "      <th>75%</th>\n",
       "      <td>7.75000</td>\n",
       "      <td>2016.750000</td>\n",
       "    </tr>\n",
       "    <tr>\n",
       "      <th>max</th>\n",
       "      <td>10.00000</td>\n",
       "      <td>2019.000000</td>\n",
       "    </tr>\n",
       "  </tbody>\n",
       "</table>\n",
       "</div>"
      ],
      "text/plain": [
       "             Id         Year\n",
       "count  10.00000    10.000000\n",
       "mean    5.50000  2012.200000\n",
       "std     3.02765     5.116422\n",
       "min     1.00000  2005.000000\n",
       "25%     3.25000  2008.500000\n",
       "50%     5.50000  2011.500000\n",
       "75%     7.75000  2016.750000\n",
       "max    10.00000  2019.000000"
      ]
     },
     "execution_count": 8,
     "metadata": {},
     "output_type": "execute_result"
    }
   ],
   "source": [
    "df.describe()"
   ]
  },
  {
   "cell_type": "code",
   "execution_count": 9,
   "id": "16fd5009-0f04-42f8-bc02-0c8145a9e875",
   "metadata": {},
   "outputs": [
    {
     "name": "stdout",
     "output_type": "stream",
     "text": [
      "<class 'pandas.core.frame.DataFrame'>\n",
      "RangeIndex: 10 entries, 0 to 9\n",
      "Data columns (total 6 columns):\n",
      " #   Column    Non-Null Count  Dtype \n",
      "---  ------    --------------  ----- \n",
      " 0   Id        10 non-null     int64 \n",
      " 1   MovName   10 non-null     object\n",
      " 2   Actor     10 non-null     object\n",
      " 3   Director  10 non-null     object\n",
      " 4   Genre     10 non-null     object\n",
      " 5   Year      10 non-null     int64 \n",
      "dtypes: int64(2), object(4)\n",
      "memory usage: 608.0+ bytes\n"
     ]
    }
   ],
   "source": [
    "df.info()"
   ]
  },
  {
   "cell_type": "code",
   "execution_count": 10,
   "id": "4c47d26a-2ed4-4cbd-859f-cc62788e8f89",
   "metadata": {},
   "outputs": [
    {
     "data": {
      "text/plain": [
       "(10, 6)"
      ]
     },
     "execution_count": 10,
     "metadata": {},
     "output_type": "execute_result"
    }
   ],
   "source": [
    "df.shape"
   ]
  },
  {
   "cell_type": "code",
   "execution_count": 41,
   "id": "ed4291c6-af19-414c-8fef-5073301dcd35",
   "metadata": {},
   "outputs": [
    {
     "data": {
      "text/plain": [
       "Christian Bale     5\n",
       "Tom Cruise         2\n",
       "Joaquin Phoenix    2\n",
       "Hugh Jackman       1\n",
       "Name: Actor, dtype: int64"
      ]
     },
     "execution_count": 41,
     "metadata": {},
     "output_type": "execute_result"
    }
   ],
   "source": [
    "df['Actor'].value_counts()"
   ]
  },
  {
   "cell_type": "code",
   "execution_count": 44,
   "id": "e5a1ae0c-8247-4b16-8e8e-78f1a3101745",
   "metadata": {},
   "outputs": [
    {
     "data": {
      "text/plain": [
       "Christopher Nolan        3\n",
       "David O Russell          2\n",
       "James Mangold            2\n",
       "Todd Phillips            1\n",
       "Spike Jonze              1\n",
       "Christopher McQuarrie    1\n",
       "Name: Director, dtype: int64"
      ]
     },
     "execution_count": 44,
     "metadata": {},
     "output_type": "execute_result"
    }
   ],
   "source": [
    "df['Director'].value_counts()"
   ]
  },
  {
   "cell_type": "code",
   "execution_count": 45,
   "id": "85b3d670-558b-4304-ada7-4bdfa8110717",
   "metadata": {},
   "outputs": [
    {
     "data": {
      "text/plain": [
       "Drama         4\n",
       "Comic-Book    4\n",
       "Action        2\n",
       "Name: Genre, dtype: int64"
      ]
     },
     "execution_count": 45,
     "metadata": {},
     "output_type": "execute_result"
    }
   ],
   "source": [
    "df['Genre'].value_counts()"
   ]
  },
  {
   "cell_type": "code",
   "execution_count": null,
   "id": "5dd5429b-4c0e-4427-99c5-35605558a7ed",
   "metadata": {},
   "outputs": [],
   "source": []
  },
  {
   "cell_type": "code",
   "execution_count": 11,
   "id": "e572b9aa-6fee-4c9a-ac7c-691ab3a9a281",
   "metadata": {},
   "outputs": [],
   "source": [
    "del df['Id']"
   ]
  },
  {
   "cell_type": "code",
   "execution_count": 12,
   "id": "9d9397cf-35cb-429e-af00-20ff94ea533b",
   "metadata": {},
   "outputs": [
    {
     "data": {
      "text/html": [
       "<div>\n",
       "<style scoped>\n",
       "    .dataframe tbody tr th:only-of-type {\n",
       "        vertical-align: middle;\n",
       "    }\n",
       "\n",
       "    .dataframe tbody tr th {\n",
       "        vertical-align: top;\n",
       "    }\n",
       "\n",
       "    .dataframe thead th {\n",
       "        text-align: right;\n",
       "    }\n",
       "</style>\n",
       "<table border=\"1\" class=\"dataframe\">\n",
       "  <thead>\n",
       "    <tr style=\"text-align: right;\">\n",
       "      <th></th>\n",
       "      <th>MovName</th>\n",
       "      <th>Actor</th>\n",
       "      <th>Director</th>\n",
       "      <th>Genre</th>\n",
       "      <th>Year</th>\n",
       "    </tr>\n",
       "  </thead>\n",
       "  <tbody>\n",
       "    <tr>\n",
       "      <th>0</th>\n",
       "      <td>Joker</td>\n",
       "      <td>Joaquin Phoenix</td>\n",
       "      <td>Todd Phillips</td>\n",
       "      <td>Comic-Book</td>\n",
       "      <td>2019</td>\n",
       "    </tr>\n",
       "    <tr>\n",
       "      <th>1</th>\n",
       "      <td>Mission Impossible: Fallout</td>\n",
       "      <td>Tom Cruise</td>\n",
       "      <td>Christopher McQuarrie</td>\n",
       "      <td>Action</td>\n",
       "      <td>2018</td>\n",
       "    </tr>\n",
       "  </tbody>\n",
       "</table>\n",
       "</div>"
      ],
      "text/plain": [
       "                       MovName            Actor               Director  \\\n",
       "0                        Joker  Joaquin Phoenix          Todd Phillips   \n",
       "1  Mission Impossible: Fallout       Tom Cruise  Christopher McQuarrie   \n",
       "\n",
       "        Genre  Year  \n",
       "0  Comic-Book  2019  \n",
       "1      Action  2018  "
      ]
     },
     "execution_count": 12,
     "metadata": {},
     "output_type": "execute_result"
    }
   ],
   "source": [
    "df.head(2)"
   ]
  },
  {
   "cell_type": "code",
   "execution_count": 13,
   "id": "8ad009ef-4a01-411a-81d9-cc4a92284b04",
   "metadata": {},
   "outputs": [
    {
     "data": {
      "text/html": [
       "<div>\n",
       "<style scoped>\n",
       "    .dataframe tbody tr th:only-of-type {\n",
       "        vertical-align: middle;\n",
       "    }\n",
       "\n",
       "    .dataframe tbody tr th {\n",
       "        vertical-align: top;\n",
       "    }\n",
       "\n",
       "    .dataframe thead th {\n",
       "        text-align: right;\n",
       "    }\n",
       "</style>\n",
       "<table border=\"1\" class=\"dataframe\">\n",
       "  <thead>\n",
       "    <tr style=\"text-align: right;\">\n",
       "      <th></th>\n",
       "      <th>MovName</th>\n",
       "      <th>Actor</th>\n",
       "      <th>Director</th>\n",
       "      <th>Genre</th>\n",
       "      <th>Year</th>\n",
       "    </tr>\n",
       "  </thead>\n",
       "  <tbody>\n",
       "    <tr>\n",
       "      <th>0</th>\n",
       "      <td>Joker</td>\n",
       "      <td>Joaquin Phoenix</td>\n",
       "      <td>Todd Phillips</td>\n",
       "      <td>Comic-Book</td>\n",
       "      <td>2019</td>\n",
       "    </tr>\n",
       "    <tr>\n",
       "      <th>1</th>\n",
       "      <td>Mission Impossible: Fallout</td>\n",
       "      <td>Tom Cruise</td>\n",
       "      <td>Christopher McQuarrie</td>\n",
       "      <td>Action</td>\n",
       "      <td>2018</td>\n",
       "    </tr>\n",
       "    <tr>\n",
       "      <th>2</th>\n",
       "      <td>Logan</td>\n",
       "      <td>Hugh Jackman</td>\n",
       "      <td>James Mangold</td>\n",
       "      <td>Comic-Book</td>\n",
       "      <td>2017</td>\n",
       "    </tr>\n",
       "    <tr>\n",
       "      <th>3</th>\n",
       "      <td>Her</td>\n",
       "      <td>Joaquin Phoenix</td>\n",
       "      <td>Spike Jonze</td>\n",
       "      <td>Drama</td>\n",
       "      <td>2016</td>\n",
       "    </tr>\n",
       "    <tr>\n",
       "      <th>4</th>\n",
       "      <td>The Prestige</td>\n",
       "      <td>Christian Bale</td>\n",
       "      <td>Christopher Nolan</td>\n",
       "      <td>Drama</td>\n",
       "      <td>2006</td>\n",
       "    </tr>\n",
       "    <tr>\n",
       "      <th>5</th>\n",
       "      <td>Batman Begins</td>\n",
       "      <td>Christian Bale</td>\n",
       "      <td>Christopher Nolan</td>\n",
       "      <td>Comic-Book</td>\n",
       "      <td>2005</td>\n",
       "    </tr>\n",
       "    <tr>\n",
       "      <th>6</th>\n",
       "      <td>The Dark Knight</td>\n",
       "      <td>Christian Bale</td>\n",
       "      <td>Christopher Nolan</td>\n",
       "      <td>Comic-Book</td>\n",
       "      <td>2008</td>\n",
       "    </tr>\n",
       "    <tr>\n",
       "      <th>7</th>\n",
       "      <td>The Fighter</td>\n",
       "      <td>Christian Bale</td>\n",
       "      <td>David O Russell</td>\n",
       "      <td>Drama</td>\n",
       "      <td>2010</td>\n",
       "    </tr>\n",
       "    <tr>\n",
       "      <th>8</th>\n",
       "      <td>American Hustle</td>\n",
       "      <td>Christian Bale</td>\n",
       "      <td>David O Russell</td>\n",
       "      <td>Drama</td>\n",
       "      <td>2013</td>\n",
       "    </tr>\n",
       "    <tr>\n",
       "      <th>9</th>\n",
       "      <td>Knight and Day</td>\n",
       "      <td>Tom Cruise</td>\n",
       "      <td>James Mangold</td>\n",
       "      <td>Action</td>\n",
       "      <td>2010</td>\n",
       "    </tr>\n",
       "  </tbody>\n",
       "</table>\n",
       "</div>"
      ],
      "text/plain": [
       "                       MovName            Actor               Director  \\\n",
       "0                        Joker  Joaquin Phoenix          Todd Phillips   \n",
       "1  Mission Impossible: Fallout       Tom Cruise  Christopher McQuarrie   \n",
       "2                        Logan     Hugh Jackman          James Mangold   \n",
       "3                          Her  Joaquin Phoenix            Spike Jonze   \n",
       "4                 The Prestige   Christian Bale      Christopher Nolan   \n",
       "5                Batman Begins   Christian Bale      Christopher Nolan   \n",
       "6              The Dark Knight   Christian Bale      Christopher Nolan   \n",
       "7                  The Fighter   Christian Bale        David O Russell   \n",
       "8              American Hustle   Christian Bale        David O Russell   \n",
       "9               Knight and Day       Tom Cruise          James Mangold   \n",
       "\n",
       "        Genre  Year  \n",
       "0  Comic-Book  2019  \n",
       "1      Action  2018  \n",
       "2  Comic-Book  2017  \n",
       "3       Drama  2016  \n",
       "4       Drama  2006  \n",
       "5  Comic-Book  2005  \n",
       "6  Comic-Book  2008  \n",
       "7       Drama  2010  \n",
       "8       Drama  2013  \n",
       "9      Action  2010  "
      ]
     },
     "metadata": {},
     "output_type": "display_data"
    }
   ],
   "source": [
    "display(df)"
   ]
  },
  {
   "cell_type": "code",
   "execution_count": 14,
   "id": "cd4bcde5-c9b7-4174-8085-87997e4233db",
   "metadata": {},
   "outputs": [
    {
     "data": {
      "text/plain": [
       "'Christian Bale'"
      ]
     },
     "metadata": {},
     "output_type": "display_data"
    },
    {
     "data": {
      "text/html": [
       "<div>\n",
       "<style scoped>\n",
       "    .dataframe tbody tr th:only-of-type {\n",
       "        vertical-align: middle;\n",
       "    }\n",
       "\n",
       "    .dataframe tbody tr th {\n",
       "        vertical-align: top;\n",
       "    }\n",
       "\n",
       "    .dataframe thead th {\n",
       "        text-align: right;\n",
       "    }\n",
       "</style>\n",
       "<table border=\"1\" class=\"dataframe\">\n",
       "  <thead>\n",
       "    <tr style=\"text-align: right;\">\n",
       "      <th></th>\n",
       "      <th>MovName</th>\n",
       "      <th>Actor</th>\n",
       "      <th>Director</th>\n",
       "      <th>Genre</th>\n",
       "      <th>Year</th>\n",
       "    </tr>\n",
       "  </thead>\n",
       "  <tbody>\n",
       "    <tr>\n",
       "      <th>4</th>\n",
       "      <td>The Prestige</td>\n",
       "      <td>Christian Bale</td>\n",
       "      <td>Christopher Nolan</td>\n",
       "      <td>Drama</td>\n",
       "      <td>2006</td>\n",
       "    </tr>\n",
       "    <tr>\n",
       "      <th>5</th>\n",
       "      <td>Batman Begins</td>\n",
       "      <td>Christian Bale</td>\n",
       "      <td>Christopher Nolan</td>\n",
       "      <td>Comic-Book</td>\n",
       "      <td>2005</td>\n",
       "    </tr>\n",
       "    <tr>\n",
       "      <th>6</th>\n",
       "      <td>The Dark Knight</td>\n",
       "      <td>Christian Bale</td>\n",
       "      <td>Christopher Nolan</td>\n",
       "      <td>Comic-Book</td>\n",
       "      <td>2008</td>\n",
       "    </tr>\n",
       "    <tr>\n",
       "      <th>7</th>\n",
       "      <td>The Fighter</td>\n",
       "      <td>Christian Bale</td>\n",
       "      <td>David O Russell</td>\n",
       "      <td>Drama</td>\n",
       "      <td>2010</td>\n",
       "    </tr>\n",
       "    <tr>\n",
       "      <th>8</th>\n",
       "      <td>American Hustle</td>\n",
       "      <td>Christian Bale</td>\n",
       "      <td>David O Russell</td>\n",
       "      <td>Drama</td>\n",
       "      <td>2013</td>\n",
       "    </tr>\n",
       "  </tbody>\n",
       "</table>\n",
       "</div>"
      ],
      "text/plain": [
       "           MovName           Actor           Director       Genre  Year\n",
       "4     The Prestige  Christian Bale  Christopher Nolan       Drama  2006\n",
       "5    Batman Begins  Christian Bale  Christopher Nolan  Comic-Book  2005\n",
       "6  The Dark Knight  Christian Bale  Christopher Nolan  Comic-Book  2008\n",
       "7      The Fighter  Christian Bale    David O Russell       Drama  2010\n",
       "8  American Hustle  Christian Bale    David O Russell       Drama  2013"
      ]
     },
     "metadata": {},
     "output_type": "display_data"
    },
    {
     "data": {
      "text/plain": [
       "'Hugh Jackman'"
      ]
     },
     "metadata": {},
     "output_type": "display_data"
    },
    {
     "data": {
      "text/html": [
       "<div>\n",
       "<style scoped>\n",
       "    .dataframe tbody tr th:only-of-type {\n",
       "        vertical-align: middle;\n",
       "    }\n",
       "\n",
       "    .dataframe tbody tr th {\n",
       "        vertical-align: top;\n",
       "    }\n",
       "\n",
       "    .dataframe thead th {\n",
       "        text-align: right;\n",
       "    }\n",
       "</style>\n",
       "<table border=\"1\" class=\"dataframe\">\n",
       "  <thead>\n",
       "    <tr style=\"text-align: right;\">\n",
       "      <th></th>\n",
       "      <th>MovName</th>\n",
       "      <th>Actor</th>\n",
       "      <th>Director</th>\n",
       "      <th>Genre</th>\n",
       "      <th>Year</th>\n",
       "    </tr>\n",
       "  </thead>\n",
       "  <tbody>\n",
       "    <tr>\n",
       "      <th>2</th>\n",
       "      <td>Logan</td>\n",
       "      <td>Hugh Jackman</td>\n",
       "      <td>James Mangold</td>\n",
       "      <td>Comic-Book</td>\n",
       "      <td>2017</td>\n",
       "    </tr>\n",
       "  </tbody>\n",
       "</table>\n",
       "</div>"
      ],
      "text/plain": [
       "  MovName         Actor       Director       Genre  Year\n",
       "2   Logan  Hugh Jackman  James Mangold  Comic-Book  2017"
      ]
     },
     "metadata": {},
     "output_type": "display_data"
    },
    {
     "data": {
      "text/plain": [
       "'Joaquin Phoenix'"
      ]
     },
     "metadata": {},
     "output_type": "display_data"
    },
    {
     "data": {
      "text/html": [
       "<div>\n",
       "<style scoped>\n",
       "    .dataframe tbody tr th:only-of-type {\n",
       "        vertical-align: middle;\n",
       "    }\n",
       "\n",
       "    .dataframe tbody tr th {\n",
       "        vertical-align: top;\n",
       "    }\n",
       "\n",
       "    .dataframe thead th {\n",
       "        text-align: right;\n",
       "    }\n",
       "</style>\n",
       "<table border=\"1\" class=\"dataframe\">\n",
       "  <thead>\n",
       "    <tr style=\"text-align: right;\">\n",
       "      <th></th>\n",
       "      <th>MovName</th>\n",
       "      <th>Actor</th>\n",
       "      <th>Director</th>\n",
       "      <th>Genre</th>\n",
       "      <th>Year</th>\n",
       "    </tr>\n",
       "  </thead>\n",
       "  <tbody>\n",
       "    <tr>\n",
       "      <th>0</th>\n",
       "      <td>Joker</td>\n",
       "      <td>Joaquin Phoenix</td>\n",
       "      <td>Todd Phillips</td>\n",
       "      <td>Comic-Book</td>\n",
       "      <td>2019</td>\n",
       "    </tr>\n",
       "    <tr>\n",
       "      <th>3</th>\n",
       "      <td>Her</td>\n",
       "      <td>Joaquin Phoenix</td>\n",
       "      <td>Spike Jonze</td>\n",
       "      <td>Drama</td>\n",
       "      <td>2016</td>\n",
       "    </tr>\n",
       "  </tbody>\n",
       "</table>\n",
       "</div>"
      ],
      "text/plain": [
       "  MovName            Actor       Director       Genre  Year\n",
       "0   Joker  Joaquin Phoenix  Todd Phillips  Comic-Book  2019\n",
       "3     Her  Joaquin Phoenix    Spike Jonze       Drama  2016"
      ]
     },
     "metadata": {},
     "output_type": "display_data"
    },
    {
     "data": {
      "text/plain": [
       "'Tom Cruise'"
      ]
     },
     "metadata": {},
     "output_type": "display_data"
    },
    {
     "data": {
      "text/html": [
       "<div>\n",
       "<style scoped>\n",
       "    .dataframe tbody tr th:only-of-type {\n",
       "        vertical-align: middle;\n",
       "    }\n",
       "\n",
       "    .dataframe tbody tr th {\n",
       "        vertical-align: top;\n",
       "    }\n",
       "\n",
       "    .dataframe thead th {\n",
       "        text-align: right;\n",
       "    }\n",
       "</style>\n",
       "<table border=\"1\" class=\"dataframe\">\n",
       "  <thead>\n",
       "    <tr style=\"text-align: right;\">\n",
       "      <th></th>\n",
       "      <th>MovName</th>\n",
       "      <th>Actor</th>\n",
       "      <th>Director</th>\n",
       "      <th>Genre</th>\n",
       "      <th>Year</th>\n",
       "    </tr>\n",
       "  </thead>\n",
       "  <tbody>\n",
       "    <tr>\n",
       "      <th>1</th>\n",
       "      <td>Mission Impossible: Fallout</td>\n",
       "      <td>Tom Cruise</td>\n",
       "      <td>Christopher McQuarrie</td>\n",
       "      <td>Action</td>\n",
       "      <td>2018</td>\n",
       "    </tr>\n",
       "    <tr>\n",
       "      <th>9</th>\n",
       "      <td>Knight and Day</td>\n",
       "      <td>Tom Cruise</td>\n",
       "      <td>James Mangold</td>\n",
       "      <td>Action</td>\n",
       "      <td>2010</td>\n",
       "    </tr>\n",
       "  </tbody>\n",
       "</table>\n",
       "</div>"
      ],
      "text/plain": [
       "                       MovName       Actor               Director   Genre  \\\n",
       "1  Mission Impossible: Fallout  Tom Cruise  Christopher McQuarrie  Action   \n",
       "9               Knight and Day  Tom Cruise          James Mangold  Action   \n",
       "\n",
       "   Year  \n",
       "1  2018  \n",
       "9  2010  "
      ]
     },
     "metadata": {},
     "output_type": "display_data"
    }
   ],
   "source": [
    "actors = df.groupby('Actor')\n",
    "for actor, rows in actors:\n",
    "    display(actor,rows)"
   ]
  },
  {
   "cell_type": "code",
   "execution_count": 15,
   "id": "d4b97416-46ef-4540-b277-4b4eeb8c3101",
   "metadata": {},
   "outputs": [
    {
     "data": {
      "text/plain": [
       "'Christopher McQuarrie'"
      ]
     },
     "metadata": {},
     "output_type": "display_data"
    },
    {
     "data": {
      "text/html": [
       "<div>\n",
       "<style scoped>\n",
       "    .dataframe tbody tr th:only-of-type {\n",
       "        vertical-align: middle;\n",
       "    }\n",
       "\n",
       "    .dataframe tbody tr th {\n",
       "        vertical-align: top;\n",
       "    }\n",
       "\n",
       "    .dataframe thead th {\n",
       "        text-align: right;\n",
       "    }\n",
       "</style>\n",
       "<table border=\"1\" class=\"dataframe\">\n",
       "  <thead>\n",
       "    <tr style=\"text-align: right;\">\n",
       "      <th></th>\n",
       "      <th>MovName</th>\n",
       "      <th>Actor</th>\n",
       "      <th>Director</th>\n",
       "      <th>Genre</th>\n",
       "      <th>Year</th>\n",
       "    </tr>\n",
       "  </thead>\n",
       "  <tbody>\n",
       "    <tr>\n",
       "      <th>1</th>\n",
       "      <td>Mission Impossible: Fallout</td>\n",
       "      <td>Tom Cruise</td>\n",
       "      <td>Christopher McQuarrie</td>\n",
       "      <td>Action</td>\n",
       "      <td>2018</td>\n",
       "    </tr>\n",
       "  </tbody>\n",
       "</table>\n",
       "</div>"
      ],
      "text/plain": [
       "                       MovName       Actor               Director   Genre  \\\n",
       "1  Mission Impossible: Fallout  Tom Cruise  Christopher McQuarrie  Action   \n",
       "\n",
       "   Year  \n",
       "1  2018  "
      ]
     },
     "metadata": {},
     "output_type": "display_data"
    },
    {
     "data": {
      "text/plain": [
       "'Christopher Nolan'"
      ]
     },
     "metadata": {},
     "output_type": "display_data"
    },
    {
     "data": {
      "text/html": [
       "<div>\n",
       "<style scoped>\n",
       "    .dataframe tbody tr th:only-of-type {\n",
       "        vertical-align: middle;\n",
       "    }\n",
       "\n",
       "    .dataframe tbody tr th {\n",
       "        vertical-align: top;\n",
       "    }\n",
       "\n",
       "    .dataframe thead th {\n",
       "        text-align: right;\n",
       "    }\n",
       "</style>\n",
       "<table border=\"1\" class=\"dataframe\">\n",
       "  <thead>\n",
       "    <tr style=\"text-align: right;\">\n",
       "      <th></th>\n",
       "      <th>MovName</th>\n",
       "      <th>Actor</th>\n",
       "      <th>Director</th>\n",
       "      <th>Genre</th>\n",
       "      <th>Year</th>\n",
       "    </tr>\n",
       "  </thead>\n",
       "  <tbody>\n",
       "    <tr>\n",
       "      <th>4</th>\n",
       "      <td>The Prestige</td>\n",
       "      <td>Christian Bale</td>\n",
       "      <td>Christopher Nolan</td>\n",
       "      <td>Drama</td>\n",
       "      <td>2006</td>\n",
       "    </tr>\n",
       "    <tr>\n",
       "      <th>5</th>\n",
       "      <td>Batman Begins</td>\n",
       "      <td>Christian Bale</td>\n",
       "      <td>Christopher Nolan</td>\n",
       "      <td>Comic-Book</td>\n",
       "      <td>2005</td>\n",
       "    </tr>\n",
       "    <tr>\n",
       "      <th>6</th>\n",
       "      <td>The Dark Knight</td>\n",
       "      <td>Christian Bale</td>\n",
       "      <td>Christopher Nolan</td>\n",
       "      <td>Comic-Book</td>\n",
       "      <td>2008</td>\n",
       "    </tr>\n",
       "  </tbody>\n",
       "</table>\n",
       "</div>"
      ],
      "text/plain": [
       "           MovName           Actor           Director       Genre  Year\n",
       "4     The Prestige  Christian Bale  Christopher Nolan       Drama  2006\n",
       "5    Batman Begins  Christian Bale  Christopher Nolan  Comic-Book  2005\n",
       "6  The Dark Knight  Christian Bale  Christopher Nolan  Comic-Book  2008"
      ]
     },
     "metadata": {},
     "output_type": "display_data"
    },
    {
     "data": {
      "text/plain": [
       "'David O Russell'"
      ]
     },
     "metadata": {},
     "output_type": "display_data"
    },
    {
     "data": {
      "text/html": [
       "<div>\n",
       "<style scoped>\n",
       "    .dataframe tbody tr th:only-of-type {\n",
       "        vertical-align: middle;\n",
       "    }\n",
       "\n",
       "    .dataframe tbody tr th {\n",
       "        vertical-align: top;\n",
       "    }\n",
       "\n",
       "    .dataframe thead th {\n",
       "        text-align: right;\n",
       "    }\n",
       "</style>\n",
       "<table border=\"1\" class=\"dataframe\">\n",
       "  <thead>\n",
       "    <tr style=\"text-align: right;\">\n",
       "      <th></th>\n",
       "      <th>MovName</th>\n",
       "      <th>Actor</th>\n",
       "      <th>Director</th>\n",
       "      <th>Genre</th>\n",
       "      <th>Year</th>\n",
       "    </tr>\n",
       "  </thead>\n",
       "  <tbody>\n",
       "    <tr>\n",
       "      <th>7</th>\n",
       "      <td>The Fighter</td>\n",
       "      <td>Christian Bale</td>\n",
       "      <td>David O Russell</td>\n",
       "      <td>Drama</td>\n",
       "      <td>2010</td>\n",
       "    </tr>\n",
       "    <tr>\n",
       "      <th>8</th>\n",
       "      <td>American Hustle</td>\n",
       "      <td>Christian Bale</td>\n",
       "      <td>David O Russell</td>\n",
       "      <td>Drama</td>\n",
       "      <td>2013</td>\n",
       "    </tr>\n",
       "  </tbody>\n",
       "</table>\n",
       "</div>"
      ],
      "text/plain": [
       "           MovName           Actor         Director  Genre  Year\n",
       "7      The Fighter  Christian Bale  David O Russell  Drama  2010\n",
       "8  American Hustle  Christian Bale  David O Russell  Drama  2013"
      ]
     },
     "metadata": {},
     "output_type": "display_data"
    },
    {
     "data": {
      "text/plain": [
       "'James Mangold'"
      ]
     },
     "metadata": {},
     "output_type": "display_data"
    },
    {
     "data": {
      "text/html": [
       "<div>\n",
       "<style scoped>\n",
       "    .dataframe tbody tr th:only-of-type {\n",
       "        vertical-align: middle;\n",
       "    }\n",
       "\n",
       "    .dataframe tbody tr th {\n",
       "        vertical-align: top;\n",
       "    }\n",
       "\n",
       "    .dataframe thead th {\n",
       "        text-align: right;\n",
       "    }\n",
       "</style>\n",
       "<table border=\"1\" class=\"dataframe\">\n",
       "  <thead>\n",
       "    <tr style=\"text-align: right;\">\n",
       "      <th></th>\n",
       "      <th>MovName</th>\n",
       "      <th>Actor</th>\n",
       "      <th>Director</th>\n",
       "      <th>Genre</th>\n",
       "      <th>Year</th>\n",
       "    </tr>\n",
       "  </thead>\n",
       "  <tbody>\n",
       "    <tr>\n",
       "      <th>2</th>\n",
       "      <td>Logan</td>\n",
       "      <td>Hugh Jackman</td>\n",
       "      <td>James Mangold</td>\n",
       "      <td>Comic-Book</td>\n",
       "      <td>2017</td>\n",
       "    </tr>\n",
       "    <tr>\n",
       "      <th>9</th>\n",
       "      <td>Knight and Day</td>\n",
       "      <td>Tom Cruise</td>\n",
       "      <td>James Mangold</td>\n",
       "      <td>Action</td>\n",
       "      <td>2010</td>\n",
       "    </tr>\n",
       "  </tbody>\n",
       "</table>\n",
       "</div>"
      ],
      "text/plain": [
       "          MovName         Actor       Director       Genre  Year\n",
       "2           Logan  Hugh Jackman  James Mangold  Comic-Book  2017\n",
       "9  Knight and Day    Tom Cruise  James Mangold      Action  2010"
      ]
     },
     "metadata": {},
     "output_type": "display_data"
    },
    {
     "data": {
      "text/plain": [
       "'Spike Jonze'"
      ]
     },
     "metadata": {},
     "output_type": "display_data"
    },
    {
     "data": {
      "text/html": [
       "<div>\n",
       "<style scoped>\n",
       "    .dataframe tbody tr th:only-of-type {\n",
       "        vertical-align: middle;\n",
       "    }\n",
       "\n",
       "    .dataframe tbody tr th {\n",
       "        vertical-align: top;\n",
       "    }\n",
       "\n",
       "    .dataframe thead th {\n",
       "        text-align: right;\n",
       "    }\n",
       "</style>\n",
       "<table border=\"1\" class=\"dataframe\">\n",
       "  <thead>\n",
       "    <tr style=\"text-align: right;\">\n",
       "      <th></th>\n",
       "      <th>MovName</th>\n",
       "      <th>Actor</th>\n",
       "      <th>Director</th>\n",
       "      <th>Genre</th>\n",
       "      <th>Year</th>\n",
       "    </tr>\n",
       "  </thead>\n",
       "  <tbody>\n",
       "    <tr>\n",
       "      <th>3</th>\n",
       "      <td>Her</td>\n",
       "      <td>Joaquin Phoenix</td>\n",
       "      <td>Spike Jonze</td>\n",
       "      <td>Drama</td>\n",
       "      <td>2016</td>\n",
       "    </tr>\n",
       "  </tbody>\n",
       "</table>\n",
       "</div>"
      ],
      "text/plain": [
       "  MovName            Actor     Director  Genre  Year\n",
       "3     Her  Joaquin Phoenix  Spike Jonze  Drama  2016"
      ]
     },
     "metadata": {},
     "output_type": "display_data"
    },
    {
     "data": {
      "text/plain": [
       "'Todd Phillips'"
      ]
     },
     "metadata": {},
     "output_type": "display_data"
    },
    {
     "data": {
      "text/html": [
       "<div>\n",
       "<style scoped>\n",
       "    .dataframe tbody tr th:only-of-type {\n",
       "        vertical-align: middle;\n",
       "    }\n",
       "\n",
       "    .dataframe tbody tr th {\n",
       "        vertical-align: top;\n",
       "    }\n",
       "\n",
       "    .dataframe thead th {\n",
       "        text-align: right;\n",
       "    }\n",
       "</style>\n",
       "<table border=\"1\" class=\"dataframe\">\n",
       "  <thead>\n",
       "    <tr style=\"text-align: right;\">\n",
       "      <th></th>\n",
       "      <th>MovName</th>\n",
       "      <th>Actor</th>\n",
       "      <th>Director</th>\n",
       "      <th>Genre</th>\n",
       "      <th>Year</th>\n",
       "    </tr>\n",
       "  </thead>\n",
       "  <tbody>\n",
       "    <tr>\n",
       "      <th>0</th>\n",
       "      <td>Joker</td>\n",
       "      <td>Joaquin Phoenix</td>\n",
       "      <td>Todd Phillips</td>\n",
       "      <td>Comic-Book</td>\n",
       "      <td>2019</td>\n",
       "    </tr>\n",
       "  </tbody>\n",
       "</table>\n",
       "</div>"
      ],
      "text/plain": [
       "  MovName            Actor       Director       Genre  Year\n",
       "0   Joker  Joaquin Phoenix  Todd Phillips  Comic-Book  2019"
      ]
     },
     "metadata": {},
     "output_type": "display_data"
    }
   ],
   "source": [
    "directors = df.groupby('Director')\n",
    "for director, rows in directors:\n",
    "    display(director, rows)"
   ]
  },
  {
   "cell_type": "code",
   "execution_count": 16,
   "id": "de7309fc-4513-4f3d-8522-7d219921bad5",
   "metadata": {},
   "outputs": [
    {
     "data": {
      "text/plain": [
       "'Action'"
      ]
     },
     "metadata": {},
     "output_type": "display_data"
    },
    {
     "data": {
      "text/html": [
       "<div>\n",
       "<style scoped>\n",
       "    .dataframe tbody tr th:only-of-type {\n",
       "        vertical-align: middle;\n",
       "    }\n",
       "\n",
       "    .dataframe tbody tr th {\n",
       "        vertical-align: top;\n",
       "    }\n",
       "\n",
       "    .dataframe thead th {\n",
       "        text-align: right;\n",
       "    }\n",
       "</style>\n",
       "<table border=\"1\" class=\"dataframe\">\n",
       "  <thead>\n",
       "    <tr style=\"text-align: right;\">\n",
       "      <th></th>\n",
       "      <th>MovName</th>\n",
       "      <th>Actor</th>\n",
       "      <th>Director</th>\n",
       "      <th>Genre</th>\n",
       "      <th>Year</th>\n",
       "    </tr>\n",
       "  </thead>\n",
       "  <tbody>\n",
       "    <tr>\n",
       "      <th>1</th>\n",
       "      <td>Mission Impossible: Fallout</td>\n",
       "      <td>Tom Cruise</td>\n",
       "      <td>Christopher McQuarrie</td>\n",
       "      <td>Action</td>\n",
       "      <td>2018</td>\n",
       "    </tr>\n",
       "    <tr>\n",
       "      <th>9</th>\n",
       "      <td>Knight and Day</td>\n",
       "      <td>Tom Cruise</td>\n",
       "      <td>James Mangold</td>\n",
       "      <td>Action</td>\n",
       "      <td>2010</td>\n",
       "    </tr>\n",
       "  </tbody>\n",
       "</table>\n",
       "</div>"
      ],
      "text/plain": [
       "                       MovName       Actor               Director   Genre  \\\n",
       "1  Mission Impossible: Fallout  Tom Cruise  Christopher McQuarrie  Action   \n",
       "9               Knight and Day  Tom Cruise          James Mangold  Action   \n",
       "\n",
       "   Year  \n",
       "1  2018  \n",
       "9  2010  "
      ]
     },
     "metadata": {},
     "output_type": "display_data"
    },
    {
     "data": {
      "text/plain": [
       "'Comic-Book'"
      ]
     },
     "metadata": {},
     "output_type": "display_data"
    },
    {
     "data": {
      "text/html": [
       "<div>\n",
       "<style scoped>\n",
       "    .dataframe tbody tr th:only-of-type {\n",
       "        vertical-align: middle;\n",
       "    }\n",
       "\n",
       "    .dataframe tbody tr th {\n",
       "        vertical-align: top;\n",
       "    }\n",
       "\n",
       "    .dataframe thead th {\n",
       "        text-align: right;\n",
       "    }\n",
       "</style>\n",
       "<table border=\"1\" class=\"dataframe\">\n",
       "  <thead>\n",
       "    <tr style=\"text-align: right;\">\n",
       "      <th></th>\n",
       "      <th>MovName</th>\n",
       "      <th>Actor</th>\n",
       "      <th>Director</th>\n",
       "      <th>Genre</th>\n",
       "      <th>Year</th>\n",
       "    </tr>\n",
       "  </thead>\n",
       "  <tbody>\n",
       "    <tr>\n",
       "      <th>0</th>\n",
       "      <td>Joker</td>\n",
       "      <td>Joaquin Phoenix</td>\n",
       "      <td>Todd Phillips</td>\n",
       "      <td>Comic-Book</td>\n",
       "      <td>2019</td>\n",
       "    </tr>\n",
       "    <tr>\n",
       "      <th>2</th>\n",
       "      <td>Logan</td>\n",
       "      <td>Hugh Jackman</td>\n",
       "      <td>James Mangold</td>\n",
       "      <td>Comic-Book</td>\n",
       "      <td>2017</td>\n",
       "    </tr>\n",
       "    <tr>\n",
       "      <th>5</th>\n",
       "      <td>Batman Begins</td>\n",
       "      <td>Christian Bale</td>\n",
       "      <td>Christopher Nolan</td>\n",
       "      <td>Comic-Book</td>\n",
       "      <td>2005</td>\n",
       "    </tr>\n",
       "    <tr>\n",
       "      <th>6</th>\n",
       "      <td>The Dark Knight</td>\n",
       "      <td>Christian Bale</td>\n",
       "      <td>Christopher Nolan</td>\n",
       "      <td>Comic-Book</td>\n",
       "      <td>2008</td>\n",
       "    </tr>\n",
       "  </tbody>\n",
       "</table>\n",
       "</div>"
      ],
      "text/plain": [
       "           MovName            Actor           Director       Genre  Year\n",
       "0            Joker  Joaquin Phoenix      Todd Phillips  Comic-Book  2019\n",
       "2            Logan     Hugh Jackman      James Mangold  Comic-Book  2017\n",
       "5    Batman Begins   Christian Bale  Christopher Nolan  Comic-Book  2005\n",
       "6  The Dark Knight   Christian Bale  Christopher Nolan  Comic-Book  2008"
      ]
     },
     "metadata": {},
     "output_type": "display_data"
    },
    {
     "data": {
      "text/plain": [
       "'Drama'"
      ]
     },
     "metadata": {},
     "output_type": "display_data"
    },
    {
     "data": {
      "text/html": [
       "<div>\n",
       "<style scoped>\n",
       "    .dataframe tbody tr th:only-of-type {\n",
       "        vertical-align: middle;\n",
       "    }\n",
       "\n",
       "    .dataframe tbody tr th {\n",
       "        vertical-align: top;\n",
       "    }\n",
       "\n",
       "    .dataframe thead th {\n",
       "        text-align: right;\n",
       "    }\n",
       "</style>\n",
       "<table border=\"1\" class=\"dataframe\">\n",
       "  <thead>\n",
       "    <tr style=\"text-align: right;\">\n",
       "      <th></th>\n",
       "      <th>MovName</th>\n",
       "      <th>Actor</th>\n",
       "      <th>Director</th>\n",
       "      <th>Genre</th>\n",
       "      <th>Year</th>\n",
       "    </tr>\n",
       "  </thead>\n",
       "  <tbody>\n",
       "    <tr>\n",
       "      <th>3</th>\n",
       "      <td>Her</td>\n",
       "      <td>Joaquin Phoenix</td>\n",
       "      <td>Spike Jonze</td>\n",
       "      <td>Drama</td>\n",
       "      <td>2016</td>\n",
       "    </tr>\n",
       "    <tr>\n",
       "      <th>4</th>\n",
       "      <td>The Prestige</td>\n",
       "      <td>Christian Bale</td>\n",
       "      <td>Christopher Nolan</td>\n",
       "      <td>Drama</td>\n",
       "      <td>2006</td>\n",
       "    </tr>\n",
       "    <tr>\n",
       "      <th>7</th>\n",
       "      <td>The Fighter</td>\n",
       "      <td>Christian Bale</td>\n",
       "      <td>David O Russell</td>\n",
       "      <td>Drama</td>\n",
       "      <td>2010</td>\n",
       "    </tr>\n",
       "    <tr>\n",
       "      <th>8</th>\n",
       "      <td>American Hustle</td>\n",
       "      <td>Christian Bale</td>\n",
       "      <td>David O Russell</td>\n",
       "      <td>Drama</td>\n",
       "      <td>2013</td>\n",
       "    </tr>\n",
       "  </tbody>\n",
       "</table>\n",
       "</div>"
      ],
      "text/plain": [
       "           MovName            Actor           Director  Genre  Year\n",
       "3              Her  Joaquin Phoenix        Spike Jonze  Drama  2016\n",
       "4     The Prestige   Christian Bale  Christopher Nolan  Drama  2006\n",
       "7      The Fighter   Christian Bale    David O Russell  Drama  2010\n",
       "8  American Hustle   Christian Bale    David O Russell  Drama  2013"
      ]
     },
     "metadata": {},
     "output_type": "display_data"
    }
   ],
   "source": [
    "genres = df.groupby('Genre')\n",
    "for genre, rows in genres:\n",
    "    display(genre, rows)"
   ]
  },
  {
   "cell_type": "markdown",
   "id": "a00c69dc-0e8e-4e99-bc6e-493835374836",
   "metadata": {},
   "source": [
    "## Visualisation"
   ]
  },
  {
   "cell_type": "code",
   "execution_count": 35,
   "id": "74f6df28-cf7b-411d-af40-f5e0d5760551",
   "metadata": {},
   "outputs": [
    {
     "data": {
      "text/plain": [
       "Text(0.5, 1.0, 'Show the comparism between the Number of Actors and the movies they have produced')"
      ]
     },
     "execution_count": 35,
     "metadata": {},
     "output_type": "execute_result"
    },
    {
     "data": {
      "image/png": "[encoded data removed]",
      "text/plain": [
       "<Figure size 792x576 with 1 Axes>"
      ]
     },
     "metadata": {
      "needs_background": "light"
     },
     "output_type": "display_data"
    }
   ],
   "source": [
    "plt.figure(figsize=(11,8))\n",
    "sns.countplot(x='Actor', data=df)\n",
    "plt.title('Show the comparism between the Number of Actors and the movies they have produced')"
   ]
  },
  {
   "cell_type": "code",
   "execution_count": null,
   "id": "b856965c-aa48-46eb-a473-d5264c2f98e0",
   "metadata": {},
   "outputs": [],
   "source": []
  },
  {
   "cell_type": "code",
   "execution_count": 36,
   "id": "d76822fc-f152-47f0-95cf-b252254c4363",
   "metadata": {},
   "outputs": [
    {
     "data": {
      "text/plain": [
       "Text(0.5, 1.0, 'Show the comparism between the Number of Directors and the movies they have produced')"
      ]
     },
     "execution_count": 36,
     "metadata": {},
     "output_type": "execute_result"
    },
    {
     "data": {
      "image/png": "[encoded data removed]",
      "text/plain": [
       "<Figure size 936x576 with 1 Axes>"
      ]
     },
     "metadata": {
      "needs_background": "light"
     },
     "output_type": "display_data"
    }
   ],
   "source": [
    "plt.figure(figsize=(13,8))\n",
    "sns.countplot(x='Director', data=df)\n",
    "plt.title('Show the comparism between the Number of Directors and the movies they have produced')"
   ]
  },
  {
   "cell_type": "code",
   "execution_count": 4,
   "id": "0b179c7e-7296-4547-af51-af4ee45e23e7",
   "metadata": {},
   "outputs": [
    {
     "data": {
      "text/html": [
       "<div>\n",
       "<style scoped>\n",
       "    .dataframe tbody tr th:only-of-type {\n",
       "        vertical-align: middle;\n",
       "    }\n",
       "\n",
       "    .dataframe tbody tr th {\n",
       "        vertical-align: top;\n",
       "    }\n",
       "\n",
       "    .dataframe thead th {\n",
       "        text-align: right;\n",
       "    }\n",
       "</style>\n",
       "<table border=\"1\" class=\"dataframe\">\n",
       "  <thead>\n",
       "    <tr style=\"text-align: right;\">\n",
       "      <th></th>\n",
       "      <th>df</th>\n",
       "    </tr>\n",
       "  </thead>\n",
       "  <tbody>\n",
       "    <tr>\n",
       "      <th>0</th>\n",
       "      <td>1</td>\n",
       "    </tr>\n",
       "  </tbody>\n",
       "</table>\n",
       "</div>"
      ],
      "text/plain": [
       "   df\n",
       "0   1"
      ]
     },
     "execution_count": 4,
     "metadata": {},
     "output_type": "execute_result"
    }
   ],
   "source": [
    " "
   ]
  },
  {
   "cell_type": "markdown",
   "id": "ce507ac6-142c-4f81-8f37-00fe2cd03688",
   "metadata": {},
   "source": [
    "## PREPROCESSING"
   ]
  },
  {
   "cell_type": "code",
   "execution_count": 17,
   "id": "e903d08f-bd4b-4b74-be81-397adc90c1da",
   "metadata": {},
   "outputs": [],
   "source": [
    "#Creating Of Dummy Variable\n",
    "actor_dummy = pd.get_dummies(df['Actor'])\n",
    "director_dummy = pd.get_dummies(df['Director'])\n",
    "genre_dummy =pd.get_dummies(df['Genre'])"
   ]
  },
  {
   "cell_type": "code",
   "execution_count": 18,
   "id": "4fbc83a2-cc6d-4abc-aa48-87f02faef44e",
   "metadata": {},
   "outputs": [],
   "source": [
    "#Concatinating the dummy Variable to Original Variables\n",
    "df_dummy_set = pd.concat([df,\n",
    "    actor_dummy, director_dummy,genre_dummy\n",
    "], axis=1)"
   ]
  },
  {
   "cell_type": "code",
   "execution_count": 19,
   "id": "d99db643-d7f6-4023-bc39-dc997bd4286a",
   "metadata": {},
   "outputs": [],
   "source": [
    "# Deleting categorical Variable from the dummy set\n",
    "del df_dummy_set['MovName']\n",
    "del df_dummy_set['Actor']\n",
    "del df_dummy_set['Director']\n",
    "del df_dummy_set['Genre']"
   ]
  },
  {
   "cell_type": "code",
   "execution_count": 20,
   "id": "7cb30a36-2561-4592-b356-dfe61794dfa5",
   "metadata": {},
   "outputs": [
    {
     "data": {
      "text/html": [
       "<div>\n",
       "<style scoped>\n",
       "    .dataframe tbody tr th:only-of-type {\n",
       "        vertical-align: middle;\n",
       "    }\n",
       "\n",
       "    .dataframe tbody tr th {\n",
       "        vertical-align: top;\n",
       "    }\n",
       "\n",
       "    .dataframe thead th {\n",
       "        text-align: right;\n",
       "    }\n",
       "</style>\n",
       "<table border=\"1\" class=\"dataframe\">\n",
       "  <thead>\n",
       "    <tr style=\"text-align: right;\">\n",
       "      <th></th>\n",
       "      <th>Year</th>\n",
       "      <th>Christian Bale</th>\n",
       "      <th>Hugh Jackman</th>\n",
       "      <th>Joaquin Phoenix</th>\n",
       "      <th>Tom Cruise</th>\n",
       "      <th>Christopher McQuarrie</th>\n",
       "      <th>Christopher Nolan</th>\n",
       "      <th>David O Russell</th>\n",
       "      <th>James Mangold</th>\n",
       "      <th>Spike Jonze</th>\n",
       "      <th>Todd Phillips</th>\n",
       "      <th>Action</th>\n",
       "      <th>Comic-Book</th>\n",
       "      <th>Drama</th>\n",
       "    </tr>\n",
       "  </thead>\n",
       "  <tbody>\n",
       "    <tr>\n",
       "      <th>0</th>\n",
       "      <td>2019</td>\n",
       "      <td>0</td>\n",
       "      <td>0</td>\n",
       "      <td>1</td>\n",
       "      <td>0</td>\n",
       "      <td>0</td>\n",
       "      <td>0</td>\n",
       "      <td>0</td>\n",
       "      <td>0</td>\n",
       "      <td>0</td>\n",
       "      <td>1</td>\n",
       "      <td>0</td>\n",
       "      <td>1</td>\n",
       "      <td>0</td>\n",
       "    </tr>\n",
       "    <tr>\n",
       "      <th>1</th>\n",
       "      <td>2018</td>\n",
       "      <td>0</td>\n",
       "      <td>0</td>\n",
       "      <td>0</td>\n",
       "      <td>1</td>\n",
       "      <td>1</td>\n",
       "      <td>0</td>\n",
       "      <td>0</td>\n",
       "      <td>0</td>\n",
       "      <td>0</td>\n",
       "      <td>0</td>\n",
       "      <td>1</td>\n",
       "      <td>0</td>\n",
       "      <td>0</td>\n",
       "    </tr>\n",
       "    <tr>\n",
       "      <th>2</th>\n",
       "      <td>2017</td>\n",
       "      <td>0</td>\n",
       "      <td>1</td>\n",
       "      <td>0</td>\n",
       "      <td>0</td>\n",
       "      <td>0</td>\n",
       "      <td>0</td>\n",
       "      <td>0</td>\n",
       "      <td>1</td>\n",
       "      <td>0</td>\n",
       "      <td>0</td>\n",
       "      <td>0</td>\n",
       "      <td>1</td>\n",
       "      <td>0</td>\n",
       "    </tr>\n",
       "    <tr>\n",
       "      <th>3</th>\n",
       "      <td>2016</td>\n",
       "      <td>0</td>\n",
       "      <td>0</td>\n",
       "      <td>1</td>\n",
       "      <td>0</td>\n",
       "      <td>0</td>\n",
       "      <td>0</td>\n",
       "      <td>0</td>\n",
       "      <td>0</td>\n",
       "      <td>1</td>\n",
       "      <td>0</td>\n",
       "      <td>0</td>\n",
       "      <td>0</td>\n",
       "      <td>1</td>\n",
       "    </tr>\n",
       "    <tr>\n",
       "      <th>4</th>\n",
       "      <td>2006</td>\n",
       "      <td>1</td>\n",
       "      <td>0</td>\n",
       "      <td>0</td>\n",
       "      <td>0</td>\n",
       "      <td>0</td>\n",
       "      <td>1</td>\n",
       "      <td>0</td>\n",
       "      <td>0</td>\n",
       "      <td>0</td>\n",
       "      <td>0</td>\n",
       "      <td>0</td>\n",
       "      <td>0</td>\n",
       "      <td>1</td>\n",
       "    </tr>\n",
       "    <tr>\n",
       "      <th>5</th>\n",
       "      <td>2005</td>\n",
       "      <td>1</td>\n",
       "      <td>0</td>\n",
       "      <td>0</td>\n",
       "      <td>0</td>\n",
       "      <td>0</td>\n",
       "      <td>1</td>\n",
       "      <td>0</td>\n",
       "      <td>0</td>\n",
       "      <td>0</td>\n",
       "      <td>0</td>\n",
       "      <td>0</td>\n",
       "      <td>1</td>\n",
       "      <td>0</td>\n",
       "    </tr>\n",
       "    <tr>\n",
       "      <th>6</th>\n",
       "      <td>2008</td>\n",
       "      <td>1</td>\n",
       "      <td>0</td>\n",
       "      <td>0</td>\n",
       "      <td>0</td>\n",
       "      <td>0</td>\n",
       "      <td>1</td>\n",
       "      <td>0</td>\n",
       "      <td>0</td>\n",
       "      <td>0</td>\n",
       "      <td>0</td>\n",
       "      <td>0</td>\n",
       "      <td>1</td>\n",
       "      <td>0</td>\n",
       "    </tr>\n",
       "    <tr>\n",
       "      <th>7</th>\n",
       "      <td>2010</td>\n",
       "      <td>1</td>\n",
       "      <td>0</td>\n",
       "      <td>0</td>\n",
       "      <td>0</td>\n",
       "      <td>0</td>\n",
       "      <td>0</td>\n",
       "      <td>1</td>\n",
       "      <td>0</td>\n",
       "      <td>0</td>\n",
       "      <td>0</td>\n",
       "      <td>0</td>\n",
       "      <td>0</td>\n",
       "      <td>1</td>\n",
       "    </tr>\n",
       "    <tr>\n",
       "      <th>8</th>\n",
       "      <td>2013</td>\n",
       "      <td>1</td>\n",
       "      <td>0</td>\n",
       "      <td>0</td>\n",
       "      <td>0</td>\n",
       "      <td>0</td>\n",
       "      <td>0</td>\n",
       "      <td>1</td>\n",
       "      <td>0</td>\n",
       "      <td>0</td>\n",
       "      <td>0</td>\n",
       "      <td>0</td>\n",
       "      <td>0</td>\n",
       "      <td>1</td>\n",
       "    </tr>\n",
       "    <tr>\n",
       "      <th>9</th>\n",
       "      <td>2010</td>\n",
       "      <td>0</td>\n",
       "      <td>0</td>\n",
       "      <td>0</td>\n",
       "      <td>1</td>\n",
       "      <td>0</td>\n",
       "      <td>0</td>\n",
       "      <td>0</td>\n",
       "      <td>1</td>\n",
       "      <td>0</td>\n",
       "      <td>0</td>\n",
       "      <td>1</td>\n",
       "      <td>0</td>\n",
       "      <td>0</td>\n",
       "    </tr>\n",
       "  </tbody>\n",
       "</table>\n",
       "</div>"
      ],
      "text/plain": [
       "   Year  Christian Bale  Hugh Jackman  Joaquin Phoenix  Tom Cruise  \\\n",
       "0  2019               0             0                1           0   \n",
       "1  2018               0             0                0           1   \n",
       "2  2017               0             1                0           0   \n",
       "3  2016               0             0                1           0   \n",
       "4  2006               1             0                0           0   \n",
       "5  2005               1             0                0           0   \n",
       "6  2008               1             0                0           0   \n",
       "7  2010               1             0                0           0   \n",
       "8  2013               1             0                0           0   \n",
       "9  2010               0             0                0           1   \n",
       "\n",
       "   Christopher McQuarrie  Christopher Nolan  David O Russell  James Mangold  \\\n",
       "0                      0                  0                0              0   \n",
       "1                      1                  0                0              0   \n",
       "2                      0                  0                0              1   \n",
       "3                      0                  0                0              0   \n",
       "4                      0                  1                0              0   \n",
       "5                      0                  1                0              0   \n",
       "6                      0                  1                0              0   \n",
       "7                      0                  0                1              0   \n",
       "8                      0                  0                1              0   \n",
       "9                      0                  0                0              1   \n",
       "\n",
       "   Spike Jonze  Todd Phillips  Action  Comic-Book  Drama  \n",
       "0            0              1       0           1      0  \n",
       "1            0              0       1           0      0  \n",
       "2            0              0       0           1      0  \n",
       "3            1              0       0           0      1  \n",
       "4            0              0       0           0      1  \n",
       "5            0              0       0           1      0  \n",
       "6            0              0       0           1      0  \n",
       "7            0              0       0           0      1  \n",
       "8            0              0       0           0      1  \n",
       "9            0              0       1           0      0  "
      ]
     },
     "execution_count": 20,
     "metadata": {},
     "output_type": "execute_result"
    }
   ],
   "source": [
    "df_dummy_set"
   ]
  },
  {
   "cell_type": "code",
   "execution_count": 21,
   "id": "78d62951-248d-45c8-9bff-76231c46f5a3",
   "metadata": {},
   "outputs": [],
   "source": [
    "from sklearn.cluster import KMeans"
   ]
  },
  {
   "cell_type": "code",
   "execution_count": 50,
   "id": "19e0a92c-2825-4e6a-bda0-aa7af2b510a3",
   "metadata": {},
   "outputs": [],
   "source": [
    "#Modeling\n",
    "kmeans = KMeans(2)\n",
    "kfit = kmeans.fit(df_dummy_set)\n",
    "identified_clusters=kfit.predict(df_dummy_set)"
   ]
  },
  {
   "cell_type": "code",
   "execution_count": 53,
   "id": "dfd3a763-0788-4c33-8c73-03edfe7dde78",
   "metadata": {},
   "outputs": [
    {
     "data": {
      "text/html": [
       "<div>\n",
       "<style scoped>\n",
       "    .dataframe tbody tr th:only-of-type {\n",
       "        vertical-align: middle;\n",
       "    }\n",
       "\n",
       "    .dataframe tbody tr th {\n",
       "        vertical-align: top;\n",
       "    }\n",
       "\n",
       "    .dataframe thead th {\n",
       "        text-align: right;\n",
       "    }\n",
       "</style>\n",
       "<table border=\"1\" class=\"dataframe\">\n",
       "  <thead>\n",
       "    <tr style=\"text-align: right;\">\n",
       "      <th></th>\n",
       "      <th>MovName</th>\n",
       "      <th>Actor</th>\n",
       "      <th>Director</th>\n",
       "      <th>Genre</th>\n",
       "      <th>Year</th>\n",
       "      <th>Cluster</th>\n",
       "    </tr>\n",
       "  </thead>\n",
       "  <tbody>\n",
       "    <tr>\n",
       "      <th>0</th>\n",
       "      <td>Joker</td>\n",
       "      <td>Joaquin Phoenix</td>\n",
       "      <td>Todd Phillips</td>\n",
       "      <td>Comic-Book</td>\n",
       "      <td>2019</td>\n",
       "      <td>0</td>\n",
       "    </tr>\n",
       "    <tr>\n",
       "      <th>1</th>\n",
       "      <td>Mission Impossible: Fallout</td>\n",
       "      <td>Tom Cruise</td>\n",
       "      <td>Christopher McQuarrie</td>\n",
       "      <td>Action</td>\n",
       "      <td>2018</td>\n",
       "      <td>0</td>\n",
       "    </tr>\n",
       "    <tr>\n",
       "      <th>2</th>\n",
       "      <td>Logan</td>\n",
       "      <td>Hugh Jackman</td>\n",
       "      <td>James Mangold</td>\n",
       "      <td>Comic-Book</td>\n",
       "      <td>2017</td>\n",
       "      <td>0</td>\n",
       "    </tr>\n",
       "    <tr>\n",
       "      <th>3</th>\n",
       "      <td>Her</td>\n",
       "      <td>Joaquin Phoenix</td>\n",
       "      <td>Spike Jonze</td>\n",
       "      <td>Drama</td>\n",
       "      <td>2016</td>\n",
       "      <td>0</td>\n",
       "    </tr>\n",
       "    <tr>\n",
       "      <th>8</th>\n",
       "      <td>American Hustle</td>\n",
       "      <td>Christian Bale</td>\n",
       "      <td>David O Russell</td>\n",
       "      <td>Drama</td>\n",
       "      <td>2013</td>\n",
       "      <td>0</td>\n",
       "    </tr>\n",
       "    <tr>\n",
       "      <th>4</th>\n",
       "      <td>The Prestige</td>\n",
       "      <td>Christian Bale</td>\n",
       "      <td>Christopher Nolan</td>\n",
       "      <td>Drama</td>\n",
       "      <td>2006</td>\n",
       "      <td>1</td>\n",
       "    </tr>\n",
       "    <tr>\n",
       "      <th>5</th>\n",
       "      <td>Batman Begins</td>\n",
       "      <td>Christian Bale</td>\n",
       "      <td>Christopher Nolan</td>\n",
       "      <td>Comic-Book</td>\n",
       "      <td>2005</td>\n",
       "      <td>1</td>\n",
       "    </tr>\n",
       "    <tr>\n",
       "      <th>6</th>\n",
       "      <td>The Dark Knight</td>\n",
       "      <td>Christian Bale</td>\n",
       "      <td>Christopher Nolan</td>\n",
       "      <td>Comic-Book</td>\n",
       "      <td>2008</td>\n",
       "      <td>1</td>\n",
       "    </tr>\n",
       "    <tr>\n",
       "      <th>7</th>\n",
       "      <td>The Fighter</td>\n",
       "      <td>Christian Bale</td>\n",
       "      <td>David O Russell</td>\n",
       "      <td>Drama</td>\n",
       "      <td>2010</td>\n",
       "      <td>1</td>\n",
       "    </tr>\n",
       "    <tr>\n",
       "      <th>9</th>\n",
       "      <td>Knight and Day</td>\n",
       "      <td>Tom Cruise</td>\n",
       "      <td>James Mangold</td>\n",
       "      <td>Action</td>\n",
       "      <td>2010</td>\n",
       "      <td>1</td>\n",
       "    </tr>\n",
       "  </tbody>\n",
       "</table>\n",
       "</div>"
      ],
      "text/plain": [
       "                       MovName            Actor               Director  \\\n",
       "0                        Joker  Joaquin Phoenix          Todd Phillips   \n",
       "1  Mission Impossible: Fallout       Tom Cruise  Christopher McQuarrie   \n",
       "2                        Logan     Hugh Jackman          James Mangold   \n",
       "3                          Her  Joaquin Phoenix            Spike Jonze   \n",
       "8              American Hustle   Christian Bale        David O Russell   \n",
       "4                 The Prestige   Christian Bale      Christopher Nolan   \n",
       "5                Batman Begins   Christian Bale      Christopher Nolan   \n",
       "6              The Dark Knight   Christian Bale      Christopher Nolan   \n",
       "7                  The Fighter   Christian Bale        David O Russell   \n",
       "9               Knight and Day       Tom Cruise          James Mangold   \n",
       "\n",
       "        Genre  Year  Cluster  \n",
       "0  Comic-Book  2019        0  \n",
       "1      Action  2018        0  \n",
       "2  Comic-Book  2017        0  \n",
       "3       Drama  2016        0  \n",
       "8       Drama  2013        0  \n",
       "4       Drama  2006        1  \n",
       "5  Comic-Book  2005        1  \n",
       "6  Comic-Book  2008        1  \n",
       "7       Drama  2010        1  \n",
       "9      Action  2010        1  "
      ]
     },
     "metadata": {},
     "output_type": "display_data"
    }
   ],
   "source": [
    "clustered_data = df.copy()\n",
    "clustered_data['Cluster'] = identified_clusters\n",
    "display(clustered_data.sort_values(by='Cluster'))"
   ]
  },
  {
   "cell_type": "code",
   "execution_count": 55,
   "id": "ae16baf2-b95f-4e28-ab34-31a6949bce12",
   "metadata": {},
   "outputs": [
    {
     "data": {
      "text/plain": [
       "<matplotlib.collections.PathCollection at 0x2bed972ec10>"
      ]
     },
     "execution_count": 55,
     "metadata": {},
     "output_type": "execute_result"
    },
    {
     "data": {
      "image/png": "[encoded data removed]",
      "text/plain": [
       "<Figure size 432x288 with 1 Axes>"
      ]
     },
     "metadata": {
      "needs_background": "light"
     },
     "output_type": "display_data"
    }
   ],
   "source": [
    "plt.xlabel('Year')\n",
    "plt.ylabel('Cluster')\n",
    "plt.scatter(clustered_data['Year'],clustered_data['Cluster'],c=cluster_data['Cluster'])"
   ]
  },
  {
   "cell_type": "markdown",
   "id": "362c7850-bc68-4424-a7a9-e035aa252d5d",
   "metadata": {},
   "source": [
    "### Scaling of the Data to fit the elbow "
   ]
  },
  {
   "cell_type": "code",
   "execution_count": 56,
   "id": "7976316c-7665-4890-9e70-d8245970c57c",
   "metadata": {},
   "outputs": [],
   "source": [
    "from sklearn.preprocessing import StandardScaler"
   ]
  },
  {
   "cell_type": "code",
   "execution_count": 59,
   "id": "34294b90-6f77-4d5b-b1b9-4244e185fbdd",
   "metadata": {},
   "outputs": [
    {
     "data": {
      "text/html": [
       "<style>#sk-container-id-1 {color: black;}#sk-container-id-1 pre{padding: 0;}#sk-container-id-1 div.sk-toggleable {background-color: white;}#sk-container-id-1 label.sk-toggleable__label {cursor: pointer;display: block;width: 100%;margin-bottom: 0;padding: 0.3em;box-sizing: border-box;text-align: center;}#sk-container-id-1 label.sk-toggleable__label-arrow:before {content: \"▸\";float: left;margin-right: 0.25em;color: #696969;}#sk-container-id-1 label.sk-toggleable__label-arrow:hover:before {color: black;}#sk-container-id-1 div.sk-estimator:hover label.sk-toggleable__label-arrow:before {color: black;}#sk-container-id-1 div.sk-toggleable__content {max-height: 0;max-width: 0;overflow: hidden;text-align: left;background-color: #f0f8ff;}#sk-container-id-1 div.sk-toggleable__content pre {margin: 0.2em;color: black;border-radius: 0.25em;background-color: #f0f8ff;}#sk-container-id-1 input.sk-toggleable__control:checked~div.sk-toggleable__content {max-height: 200px;max-width: 100%;overflow: auto;}#sk-container-id-1 input.sk-toggleable__control:checked~label.sk-toggleable__label-arrow:before {content: \"▾\";}#sk-container-id-1 div.sk-estimator input.sk-toggleable__control:checked~label.sk-toggleable__label {background-color: #d4ebff;}#sk-container-id-1 div.sk-label input.sk-toggleable__control:checked~label.sk-toggleable__label {background-color: #d4ebff;}#sk-container-id-1 input.sk-hidden--visually {border: 0;clip: rect(1px 1px 1px 1px);clip: rect(1px, 1px, 1px, 1px);height: 1px;margin: -1px;overflow: hidden;padding: 0;position: absolute;width: 1px;}#sk-container-id-1 div.sk-estimator {font-family: monospace;background-color: #f0f8ff;border: 1px dotted black;border-radius: 0.25em;box-sizing: border-box;margin-bottom: 0.5em;}#sk-container-id-1 div.sk-estimator:hover {background-color: #d4ebff;}#sk-container-id-1 div.sk-parallel-item::after {content: \"\";width: 100%;border-bottom: 1px solid gray;flex-grow: 1;}#sk-container-id-1 div.sk-label:hover label.sk-toggleable__label {background-color: #d4ebff;}#sk-container-id-1 div.sk-serial::before {content: \"\";position: absolute;border-left: 1px solid gray;box-sizing: border-box;top: 0;bottom: 0;left: 50%;z-index: 0;}#sk-container-id-1 div.sk-serial {display: flex;flex-direction: column;align-items: center;background-color: white;padding-right: 0.2em;padding-left: 0.2em;position: relative;}#sk-container-id-1 div.sk-item {position: relative;z-index: 1;}#sk-container-id-1 div.sk-parallel {display: flex;align-items: stretch;justify-content: center;background-color: white;position: relative;}#sk-container-id-1 div.sk-item::before, #sk-container-id-1 div.sk-parallel-item::before {content: \"\";position: absolute;border-left: 1px solid gray;box-sizing: border-box;top: 0;bottom: 0;left: 50%;z-index: -1;}#sk-container-id-1 div.sk-parallel-item {display: flex;flex-direction: column;z-index: 1;position: relative;background-color: white;}#sk-container-id-1 div.sk-parallel-item:first-child::after {align-self: flex-end;width: 50%;}#sk-container-id-1 div.sk-parallel-item:last-child::after {align-self: flex-start;width: 50%;}#sk-container-id-1 div.sk-parallel-item:only-child::after {width: 0;}#sk-container-id-1 div.sk-dashed-wrapped {border: 1px dashed gray;margin: 0 0.4em 0.5em 0.4em;box-sizing: border-box;padding-bottom: 0.4em;background-color: white;}#sk-container-id-1 div.sk-label label {font-family: monospace;font-weight: bold;display: inline-block;line-height: 1.2em;}#sk-container-id-1 div.sk-label-container {text-align: center;}#sk-container-id-1 div.sk-container {/* jupyter's `normalize.less` sets `[hidden] { display: none; }` but bootstrap.min.css set `[hidden] { display: none !important; }` so we also need the `!important` here to be able to override the default hidden behavior on the sphinx rendered scikit-learn.org. See: https://github.com/scikit-learn/scikit-learn/issues/21755 */display: inline-block !important;position: relative;}#sk-container-id-1 div.sk-text-repr-fallback {display: none;}</style><div id=\"sk-container-id-1\" class=\"sk-top-container\"><div class=\"sk-text-repr-fallback\"><pre>StandardScaler()</pre><b>In a Jupyter environment, please rerun this cell to show the HTML representation or trust the notebook. <br />On GitHub, the HTML representation is unable to render, please try loading this page with nbviewer.org.</b></div><div class=\"sk-container\" hidden><div class=\"sk-item\"><div class=\"sk-estimator sk-toggleable\"><input class=\"sk-toggleable__control sk-hidden--visually\" id=\"sk-estimator-id-1\" type=\"checkbox\" checked><label for=\"sk-estimator-id-1\" class=\"sk-toggleable__label sk-toggleable__label-arrow\">StandardScaler</label><div class=\"sk-toggleable__content\"><pre>StandardScaler()</pre></div></div></div></div></div>"
      ],
      "text/plain": [
       "StandardScaler()"
      ]
     },
     "execution_count": 59,
     "metadata": {},
     "output_type": "execute_result"
    }
   ],
   "source": [
    "scaler = StandardScaler().fit(df_dummy_set)\n",
    "scaler"
   ]
  },
  {
   "cell_type": "code",
   "execution_count": 60,
   "id": "de8c587c-ee36-4b93-827f-ac09e3912031",
   "metadata": {},
   "outputs": [
    {
     "data": {
      "text/plain": [
       "array([4.85386444, 0.5       , 0.3       , 0.4       , 0.4       ,\n",
       "       0.3       , 0.45825757, 0.4       , 0.4       , 0.3       ,\n",
       "       0.3       , 0.4       , 0.48989795, 0.48989795])"
      ]
     },
     "execution_count": 60,
     "metadata": {},
     "output_type": "execute_result"
    }
   ],
   "source": [
    "scaler.scale_"
   ]
  },
  {
   "cell_type": "code",
   "execution_count": 61,
   "id": "cccc664a-8ba3-41d1-b7a2-d531a0c575fc",
   "metadata": {},
   "outputs": [
    {
     "data": {
      "text/plain": [
       "array([2.0122e+03, 5.0000e-01, 1.0000e-01, 2.0000e-01, 2.0000e-01,\n",
       "       1.0000e-01, 3.0000e-01, 2.0000e-01, 2.0000e-01, 1.0000e-01,\n",
       "       1.0000e-01, 2.0000e-01, 4.0000e-01, 4.0000e-01])"
      ]
     },
     "execution_count": 61,
     "metadata": {},
     "output_type": "execute_result"
    }
   ],
   "source": [
    "scaler.mean_"
   ]
  },
  {
   "cell_type": "code",
   "execution_count": 63,
   "id": "cb25ed08-5867-4ab1-b82f-5c44854dab53",
   "metadata": {},
   "outputs": [
    {
     "data": {
      "text/plain": [
       "array([[ 1.40094559, -1.        , -0.33333333,  2.        , -0.5       ,\n",
       "        -0.33333333, -0.65465367, -0.5       , -0.5       , -0.33333333,\n",
       "         3.        , -0.5       ,  1.22474487, -0.81649658],\n",
       "       [ 1.19492418, -1.        , -0.33333333, -0.5       ,  2.        ,\n",
       "         3.        , -0.65465367, -0.5       , -0.5       , -0.33333333,\n",
       "        -0.33333333,  2.        , -0.81649658, -0.81649658],\n",
       "       [ 0.98890277, -1.        ,  3.        , -0.5       , -0.5       ,\n",
       "        -0.33333333, -0.65465367, -0.5       ,  2.        , -0.33333333,\n",
       "        -0.33333333, -0.5       ,  1.22474487, -0.81649658],\n",
       "       [ 0.78288136, -1.        , -0.33333333,  2.        , -0.5       ,\n",
       "        -0.33333333, -0.65465367, -0.5       , -0.5       ,  3.        ,\n",
       "        -0.33333333, -0.5       , -0.81649658,  1.22474487],\n",
       "       [-1.27733275,  1.        , -0.33333333, -0.5       , -0.5       ,\n",
       "        -0.33333333,  1.52752523, -0.5       , -0.5       , -0.33333333,\n",
       "        -0.33333333, -0.5       , -0.81649658,  1.22474487],\n",
       "       [-1.48335416,  1.        , -0.33333333, -0.5       , -0.5       ,\n",
       "        -0.33333333,  1.52752523, -0.5       , -0.5       , -0.33333333,\n",
       "        -0.33333333, -0.5       ,  1.22474487, -0.81649658],\n",
       "       [-0.86528993,  1.        , -0.33333333, -0.5       , -0.5       ,\n",
       "        -0.33333333,  1.52752523, -0.5       , -0.5       , -0.33333333,\n",
       "        -0.33333333, -0.5       ,  1.22474487, -0.81649658],\n",
       "       [-0.4532471 ,  1.        , -0.33333333, -0.5       , -0.5       ,\n",
       "        -0.33333333, -0.65465367,  2.        , -0.5       , -0.33333333,\n",
       "        -0.33333333, -0.5       , -0.81649658,  1.22474487],\n",
       "       [ 0.16481713,  1.        , -0.33333333, -0.5       , -0.5       ,\n",
       "        -0.33333333, -0.65465367,  2.        , -0.5       , -0.33333333,\n",
       "        -0.33333333, -0.5       , -0.81649658,  1.22474487],\n",
       "       [-0.4532471 , -1.        , -0.33333333, -0.5       ,  2.        ,\n",
       "        -0.33333333, -0.65465367, -0.5       ,  2.        , -0.33333333,\n",
       "        -0.33333333,  2.        , -0.81649658, -0.81649658]])"
      ]
     },
     "execution_count": 63,
     "metadata": {},
     "output_type": "execute_result"
    }
   ],
   "source": [
    "scaler.transform(df_dummy_set)"
   ]
  },
  {
   "cell_type": "code",
   "execution_count": null,
   "id": "f4f9a6f5-8bf6-4755-a40c-62f1fc4bfa46",
   "metadata": {},
   "outputs": [],
   "source": []
  },
  {
   "cell_type": "code",
   "execution_count": 66,
   "id": "606c627f-a66f-4ece-85f2-4bc60c53b0d3",
   "metadata": {},
   "outputs": [],
   "source": []
  },
  {
   "cell_type": "code",
   "execution_count": null,
   "id": "898baee3-7454-4985-b4d6-071c1313a733",
   "metadata": {},
   "outputs": [],
   "source": []
  },
  {
   "cell_type": "code",
   "execution_count": null,
   "id": "c91083de-8b00-4950-a06e-36929476314f",
   "metadata": {},
   "outputs": [],
   "source": []
  }
 ],
 "metadata": {
  "kernelspec": {
   "display_name": "Python 3",
   "language": "python",
   "name": "python3"
  },
  "language_info": {
   "codemirror_mode": {
    "name": "ipython",
    "version": 3
   },
   "file_extension": ".py",
   "mimetype": "text/x-python",
   "name": "python",
   "nbconvert_exporter": "python",
   "pygments_lexer": "ipython3",
   "version": "3.8.8"
  }
 },
 "nbformat": 4,
 "nbformat_minor": 5
}
